{
 "cells": [
  {
   "cell_type": "code",
   "execution_count": null,
   "metadata": {},
   "outputs": [],
   "source": [
    "import pandas as pd\n",
    "from IPython.display import display\n",
    "import matplotlib.pyplot as plt\n",
    "from sklearn.preprocessing import StandardScaler\n",
    "import numpy as np"
   ]
  },
  {
   "cell_type": "markdown",
   "metadata": {},
   "source": [
    "## 1- Método para estimación de datos faltantes"
   ]
  },
  {
   "cell_type": "code",
   "execution_count": null,
   "metadata": {},
   "outputs": [],
   "source": [
    "data = pd.read_csv(\"./dataset.csv\", header=0)\n",
    "\n",
    "\n",
    "MISSING_VALUE = 999.99\n",
    "\n",
    "\n",
    "def estimate_missing_values(data, k):\n",
    "\n",
    "    # Separamos los datos en dos conjuntos:\n",
    "    # - Completos: los datos que no tienen valores en MISSING_VALUE\n",
    "    complete_df = data\n",
    "    complete_df = complete_df[~complete_df.isin([MISSING_VALUE]).any(axis=1)]\n",
    "\n",
    "    # - Incompletos: los datos que tienen al menos 1 valor en MISSING_VALUE\n",
    "    incomplete_df = data\n",
    "    incomplete_df = incomplete_df[incomplete_df.isin(\n",
    "        [MISSING_VALUE]).any(axis=1)]\n",
    "\n",
    "    # Estandarizamos ambos conjuntos\n",
    "    scaler = StandardScaler()\n",
    "    std_complete_df = pd.DataFrame(scaler.fit_transform(complete_df),columns = complete_df.columns)\n",
    "    std_incomplete_df = pd.DataFrame(scaler.fit_transform(incomplete_df),columns = incomplete_df.columns)\n",
    "\n",
    "    estimated_data = data.copy()      \n",
    "\n",
    "    # Calculamos la distancia euclidea entre cada dato incompleto y todos los datos completos\n",
    "    for i in range(len(incomplete_df)):\n",
    "        incomplete_row_df = incomplete_df.iloc[[i]]\n",
    "        std_incomplete_row = std_incomplete_df.iloc[[i]]\n",
    "        \n",
    "        missing_column_names = incomplete_row_df.columns[(incomplete_row_df == MISSING_VALUE).iloc[0]] \n",
    "\n",
    "        # Eliminamos los datos faltantes\n",
    "        std_incomplete_row = std_incomplete_row.drop(missing_column_names, axis=1)\n",
    "\n",
    "            # Eliminamos los datos faltantes\n",
    "        std_complete_aux = std_complete_df.drop(missing_column_names, axis=1)\n",
    "        distances = []\n",
    "        for j in range(len(std_complete_aux)):\n",
    "            # Almacenamos distancia para ordenamiento e índice de fila \n",
    "            distances.append((np.linalg.norm(std_incomplete_row - std_complete_aux.iloc[[j]]), j))\n",
    "\n",
    "        # Calculamos los k vecinos más cercanos\n",
    "        k_nearest_neighbors_indexes = map(lambda x: x[1], sorted(\n",
    "            distances, key=lambda distance: distance[0])[:k])\n",
    "\n",
    "        # Nos quedamos con los datos de los k vecinos más cercanos\n",
    "        k_nearest_neighbors_df = complete_df.filter(\n",
    "            items=k_nearest_neighbors_indexes, axis=0)\n",
    "\n",
    "        # Calculamos la media de los k vecinos más cercanos para cada dato incompleto\n",
    "        for missing_column_name in missing_column_names:\n",
    "            estimated_data.at[incomplete_row_df.index[0], missing_column_name] = k_nearest_neighbors_df[missing_column_name].mean()\n",
    "    \n",
    "    return estimated_data"
   ]
  },
  {
   "cell_type": "markdown",
   "metadata": {},
   "source": [
    "## 2- Comparación de datos sin estandarizar vs estandarizados mediante boxplots"
   ]
  },
  {
   "cell_type": "code",
   "execution_count": null,
   "metadata": {},
   "outputs": [],
   "source": [
    "raw_data = data.drop(\"Sexo\", axis=1)\n",
    "\n",
    "trimmed_data = data[~data.isin([MISSING_VALUE]).any(axis=1)]\n",
    "trimmed_data = trimmed_data.drop(\"Sexo\", axis=1)\n",
    "\n",
    "data.loc[data[\"Sexo\"] == \"F\", \"Sexo\"] = 1\n",
    "data.loc[data[\"Sexo\"] == \"M\", \"Sexo\"] = -1\n",
    "\n",
    "estimated = estimate_missing_values(data, k=5)\n",
    "\n",
    "estimated_data = estimated.drop(\"Sexo\", axis=1)"
   ]
  },
  {
   "cell_type": "markdown",
   "metadata": {},
   "source": [
    "### 2.1- Comparación de estimadores"
   ]
  },
  {
   "cell_type": "code",
   "execution_count": null,
   "metadata": {},
   "outputs": [],
   "source": [
    "print(\"DATOS SIN MODIFICAR\")\n",
    "display(raw_data.describe());\n",
    "\n",
    "print(\"ELIMINANDO DATOS FALTANTES\")\n",
    "display(trimmed_data.describe());\n",
    "\n",
    "print(\"RELLENANDO DATOS FALTANTES CON ESTIMACIÓN\")\n",
    "display(estimated_data.describe());"
   ]
  },
  {
   "cell_type": "markdown",
   "metadata": {},
   "source": [
    "### 2.2- Comparación de datos no estandarizados vs estandarizados"
   ]
  },
  {
   "cell_type": "code",
   "execution_count": null,
   "metadata": {},
   "outputs": [],
   "source": [
    "# *********************************************************************************************\n",
    "# * Sin modificar datos\n",
    "# *********************************************************************************************\n",
    "# Plot de datos sin estandarizar\n",
    "fig, axes = plt.subplots(nrows=1, ncols=2, figsize=(10, 5))\n",
    "axes[0].boxplot(raw_data)\n",
    "axes[0].set_xticks([1, 2, 3], raw_data.columns)\n",
    "axes[0].set_title(\"Boxplot de datos sin estandarizar\")\n",
    "\n",
    "# Plot de datos estandarizados\n",
    "scaler = StandardScaler().fit(raw_data)\n",
    "std_raw_data = pd.DataFrame(scaler.transform(raw_data), columns=raw_data.columns)\n",
    "axes[1].boxplot(std_raw_data)\n",
    "axes[1].set_xticks([1, 2, 3], raw_data.columns)\n",
    "axes[1].set_title(\"Boxplot de datos estandarizados\")\n",
    "\n",
    "\n",
    "# *********************************************************************************************\n",
    "# * Eliminando datos faltantes\n",
    "# *********************************************************************************************\n",
    "\n",
    "# Plot de datos sin estandarizar\n",
    "fig, axes = plt.subplots(nrows=1, ncols=2, figsize=(10, 5))\n",
    "axes[0].boxplot(trimmed_data)\n",
    "axes[0].set_xticks([1, 2, 3], trimmed_data.columns)\n",
    "axes[0].set_title(\"Boxplot de datos sin estandarizar\\n (Eliminando datos faltantes)\")\n",
    "\n",
    "\n",
    "# Plot de datos estandarizados\n",
    "scaler = StandardScaler().fit(trimmed_data)\n",
    "scaled_data = scaler.transform(trimmed_data)\n",
    "axes[1].boxplot(pd.DataFrame(scaled_data))\n",
    "axes[1].set_xticks([1, 2, 3], trimmed_data.columns)\n",
    "axes[1].set_title(\"Boxplot de datos estandarizados\\n (Eliminando datos faltantes)\")\n",
    "\n",
    "# *********************************************************************************************\n",
    "# * Rellenando los datos faltantes con la media de los datos de los k vecinos más cercanos\n",
    "# *********************************************************************************************\n",
    "\n",
    "fig, axes = plt.subplots(nrows=1, ncols=2, figsize=(10, 5))\n",
    "axes[0].boxplot(estimated_data)\n",
    "axes[0].set_xticks([1, 2, 3], estimated_data.columns)\n",
    "axes[0].set_title(\"Boxplot de datos sin estandarizar\\n (Rellenos con estimación)\")\n",
    "\n",
    "\n",
    "scaler = StandardScaler().fit(estimated_data)\n",
    "scaled_data = scaler.transform(estimated_data)\n",
    "# Plot de data escalada\n",
    "axes[1].boxplot(pd.DataFrame(scaled_data))\n",
    "axes[1].set_xticks([1, 2, 3], estimated_data.columns)\n",
    "axes[1].set_title(\"Boxplot de datos estandarizados\\n (Rellenos con estimación)\")\n",
    "\n"
   ]
  },
  {
   "cell_type": "markdown",
   "metadata": {},
   "source": [
    "### 2.3- Análisis de variables"
   ]
  },
  {
   "cell_type": "code",
   "execution_count": 72,
   "metadata": {},
   "outputs": [
    {
     "data": {
      "text/plain": [
       "Text(0.5, 1.0, 'Grasas_sat')"
      ]
     },
     "execution_count": 72,
     "metadata": {},
     "output_type": "execute_result"
    },
    {
     "data": {
      "image/png": "[encoded data removed]",
      "text/plain": [
       "<Figure size 720x360 with 3 Axes>"
      ]
     },
     "metadata": {
      "needs_background": "light"
     },
     "output_type": "display_data"
    },
    {
     "data": {
      "image/png": "[encoded data removed]",
      "text/plain": [
       "<Figure size 720x360 with 3 Axes>"
      ]
     },
     "metadata": {
      "needs_background": "light"
     },
     "output_type": "display_data"
    },
    {
     "data": {
      "image/png": "[encoded data removed]",
      "text/plain": [
       "<Figure size 720x360 with 3 Axes>"
      ]
     },
     "metadata": {
      "needs_background": "light"
     },
     "output_type": "display_data"
    }
   ],
   "source": [
    "\n",
    "# *********************************************************************************************\n",
    "# * Boxplots de cada variable por separado\n",
    "# *********************************************************************************************\n",
    "\n",
    "# Boxplots de variables sin modificar\n",
    "fig, axes = plt.subplots(nrows=1, ncols=3, figsize=(10, 5))\n",
    "fig.suptitle(\"Boxplots de variables sin modificar\")\n",
    "\n",
    "axes[0].boxplot(raw_data[\"Calorías\"])\n",
    "axes[0].set_title(\"Calorías\")\n",
    "\n",
    "axes[1].boxplot(raw_data[\"Alcohol\"])\n",
    "axes[1].set_title(\"Alcohol\")\n",
    "\n",
    "axes[2].boxplot(raw_data[\"Grasas_sat\"])\n",
    "axes[2].set_title(\"Grasas_sat\")\n",
    "\n",
    "# Boxplots de variables eliminando muestras con datos faltantes\n",
    "fig, axes = plt.subplots(nrows=1, ncols=3, figsize=(10, 5))\n",
    "fig.suptitle(\"Boxplots de variables eliminando muestras con datos faltantes\")\n",
    "\n",
    "axes[0].boxplot(trimmed_data[\"Calorías\"])\n",
    "axes[0].set_title(\"Calorías\")\n",
    "\n",
    "axes[1].boxplot(trimmed_data[\"Alcohol\"])\n",
    "axes[1].set_title(\"Alcohol\")\n",
    "\n",
    "axes[2].boxplot(trimmed_data[\"Grasas_sat\"])\n",
    "axes[2].set_title(\"Grasas_sat\")\n",
    "\n",
    "# Boxplots de variables rellenando datos faltantes\n",
    "fig, axes = plt.subplots(nrows=1, ncols=3, figsize=(10, 5))\n",
    "fig.suptitle(\"Boxplots de variables rellenando datos faltantes\")\n",
    "\n",
    "axes[0].boxplot(estimated_data[\"Calorías\"])\n",
    "axes[0].set_title(\"Calorías\")\n",
    "\n",
    "axes[1].boxplot(estimated_data[\"Alcohol\"])\n",
    "axes[1].set_title(\"Alcohol\")\n",
    "\n",
    "axes[2].boxplot(estimated_data[\"Grasas_sat\"])\n",
    "axes[2].set_title(\"Grasas_sat\")"
   ]
  },
  {
   "cell_type": "markdown",
   "metadata": {},
   "source": [
    "## 3- Análisis de Grasas_sat, Alcohol, y Categorías en base al Sexo"
   ]
  },
  {
   "cell_type": "code",
   "execution_count": null,
   "metadata": {},
   "outputs": [],
   "source": [
    "# Utilizando los datos sin estandarizar, y rellenando los datos faltantes\n",
    "estimated_data.loc[estimated_data[\"Sexo\"] == 1, \"Sexo\"] = \"F\"\n",
    "estimated_data.loc[estimated_data[\"Sexo\"] == -1, \"Sexo\"] = \"M\"\n",
    "groupby_sex = estimated_data.groupby(\"Sexo\", axis=0)"
   ]
  },
  {
   "cell_type": "markdown",
   "metadata": {},
   "source": [
    "### 3.1- Estimadores"
   ]
  },
  {
   "cell_type": "code",
   "execution_count": 66,
   "metadata": {},
   "outputs": [
    {
     "name": "stdout",
     "output_type": "stream",
     "text": [
      "Grasas_sat\n"
     ]
    },
    {
     "data": {
      "text/html": [
       "<div>\n",
       "<style scoped>\n",
       "    .dataframe tbody tr th:only-of-type {\n",
       "        vertical-align: middle;\n",
       "    }\n",
       "\n",
       "    .dataframe tbody tr th {\n",
       "        vertical-align: top;\n",
       "    }\n",
       "\n",
       "    .dataframe thead th {\n",
       "        text-align: right;\n",
       "    }\n",
       "</style>\n",
       "<table border=\"1\" class=\"dataframe\">\n",
       "  <thead>\n",
       "    <tr style=\"text-align: right;\">\n",
       "      <th></th>\n",
       "      <th>count</th>\n",
       "      <th>mean</th>\n",
       "      <th>std</th>\n",
       "      <th>min</th>\n",
       "      <th>25%</th>\n",
       "      <th>50%</th>\n",
       "      <th>75%</th>\n",
       "      <th>max</th>\n",
       "    </tr>\n",
       "    <tr>\n",
       "      <th>Sexo</th>\n",
       "      <th></th>\n",
       "      <th></th>\n",
       "      <th></th>\n",
       "      <th></th>\n",
       "      <th></th>\n",
       "      <th></th>\n",
       "      <th></th>\n",
       "      <th></th>\n",
       "    </tr>\n",
       "  </thead>\n",
       "  <tbody>\n",
       "    <tr>\n",
       "      <th>F</th>\n",
       "      <td>95.0</td>\n",
       "      <td>24.585895</td>\n",
       "      <td>6.213704</td>\n",
       "      <td>11.82</td>\n",
       "      <td>20.2950</td>\n",
       "      <td>23.98</td>\n",
       "      <td>28.2950</td>\n",
       "      <td>41.01</td>\n",
       "    </tr>\n",
       "    <tr>\n",
       "      <th>M</th>\n",
       "      <td>78.0</td>\n",
       "      <td>24.872667</td>\n",
       "      <td>6.998618</td>\n",
       "      <td>12.71</td>\n",
       "      <td>19.2875</td>\n",
       "      <td>24.49</td>\n",
       "      <td>27.8375</td>\n",
       "      <td>46.36</td>\n",
       "    </tr>\n",
       "  </tbody>\n",
       "</table>\n",
       "</div>"
      ],
      "text/plain": [
       "      count       mean       std    min      25%    50%      75%    max\n",
       "Sexo                                                                   \n",
       "F      95.0  24.585895  6.213704  11.82  20.2950  23.98  28.2950  41.01\n",
       "M      78.0  24.872667  6.998618  12.71  19.2875  24.49  27.8375  46.36"
      ]
     },
     "metadata": {},
     "output_type": "display_data"
    },
    {
     "name": "stdout",
     "output_type": "stream",
     "text": [
      "Alcohol\n"
     ]
    },
    {
     "data": {
      "text/html": [
       "<div>\n",
       "<style scoped>\n",
       "    .dataframe tbody tr th:only-of-type {\n",
       "        vertical-align: middle;\n",
       "    }\n",
       "\n",
       "    .dataframe tbody tr th {\n",
       "        vertical-align: top;\n",
       "    }\n",
       "\n",
       "    .dataframe thead th {\n",
       "        text-align: right;\n",
       "    }\n",
       "</style>\n",
       "<table border=\"1\" class=\"dataframe\">\n",
       "  <thead>\n",
       "    <tr style=\"text-align: right;\">\n",
       "      <th></th>\n",
       "      <th>count</th>\n",
       "      <th>mean</th>\n",
       "      <th>std</th>\n",
       "      <th>min</th>\n",
       "      <th>25%</th>\n",
       "      <th>50%</th>\n",
       "      <th>75%</th>\n",
       "      <th>max</th>\n",
       "    </tr>\n",
       "    <tr>\n",
       "      <th>Sexo</th>\n",
       "      <th></th>\n",
       "      <th></th>\n",
       "      <th></th>\n",
       "      <th></th>\n",
       "      <th></th>\n",
       "      <th></th>\n",
       "      <th></th>\n",
       "      <th></th>\n",
       "    </tr>\n",
       "  </thead>\n",
       "  <tbody>\n",
       "    <tr>\n",
       "      <th>F</th>\n",
       "      <td>95.0</td>\n",
       "      <td>5.724653</td>\n",
       "      <td>5.750664</td>\n",
       "      <td>0.0</td>\n",
       "      <td>0.785</td>\n",
       "      <td>4.17</td>\n",
       "      <td>11.1400</td>\n",
       "      <td>18.69</td>\n",
       "    </tr>\n",
       "    <tr>\n",
       "      <th>M</th>\n",
       "      <td>78.0</td>\n",
       "      <td>12.284436</td>\n",
       "      <td>11.138622</td>\n",
       "      <td>0.0</td>\n",
       "      <td>2.185</td>\n",
       "      <td>8.24</td>\n",
       "      <td>22.1775</td>\n",
       "      <td>40.11</td>\n",
       "    </tr>\n",
       "  </tbody>\n",
       "</table>\n",
       "</div>"
      ],
      "text/plain": [
       "      count       mean        std  min    25%   50%      75%    max\n",
       "Sexo                                                               \n",
       "F      95.0   5.724653   5.750664  0.0  0.785  4.17  11.1400  18.69\n",
       "M      78.0  12.284436  11.138622  0.0  2.185  8.24  22.1775  40.11"
      ]
     },
     "metadata": {},
     "output_type": "display_data"
    },
    {
     "name": "stdout",
     "output_type": "stream",
     "text": [
      "Calorías\n"
     ]
    },
    {
     "data": {
      "text/html": [
       "<div>\n",
       "<style scoped>\n",
       "    .dataframe tbody tr th:only-of-type {\n",
       "        vertical-align: middle;\n",
       "    }\n",
       "\n",
       "    .dataframe tbody tr th {\n",
       "        vertical-align: top;\n",
       "    }\n",
       "\n",
       "    .dataframe thead th {\n",
       "        text-align: right;\n",
       "    }\n",
       "</style>\n",
       "<table border=\"1\" class=\"dataframe\">\n",
       "  <thead>\n",
       "    <tr style=\"text-align: right;\">\n",
       "      <th></th>\n",
       "      <th>count</th>\n",
       "      <th>mean</th>\n",
       "      <th>std</th>\n",
       "      <th>min</th>\n",
       "      <th>25%</th>\n",
       "      <th>50%</th>\n",
       "      <th>75%</th>\n",
       "      <th>max</th>\n",
       "    </tr>\n",
       "    <tr>\n",
       "      <th>Sexo</th>\n",
       "      <th></th>\n",
       "      <th></th>\n",
       "      <th></th>\n",
       "      <th></th>\n",
       "      <th></th>\n",
       "      <th></th>\n",
       "      <th></th>\n",
       "      <th></th>\n",
       "    </tr>\n",
       "  </thead>\n",
       "  <tbody>\n",
       "    <tr>\n",
       "      <th>F</th>\n",
       "      <td>95.0</td>\n",
       "      <td>1537.242105</td>\n",
       "      <td>269.232863</td>\n",
       "      <td>800.0</td>\n",
       "      <td>1388.00</td>\n",
       "      <td>1568.0</td>\n",
       "      <td>1714.0</td>\n",
       "      <td>2013.0</td>\n",
       "    </tr>\n",
       "    <tr>\n",
       "      <th>M</th>\n",
       "      <td>78.0</td>\n",
       "      <td>1642.179487</td>\n",
       "      <td>336.587525</td>\n",
       "      <td>923.0</td>\n",
       "      <td>1434.75</td>\n",
       "      <td>1610.5</td>\n",
       "      <td>1804.5</td>\n",
       "      <td>2376.0</td>\n",
       "    </tr>\n",
       "  </tbody>\n",
       "</table>\n",
       "</div>"
      ],
      "text/plain": [
       "      count         mean         std    min      25%     50%     75%     max\n",
       "Sexo                                                                        \n",
       "F      95.0  1537.242105  269.232863  800.0  1388.00  1568.0  1714.0  2013.0\n",
       "M      78.0  1642.179487  336.587525  923.0  1434.75  1610.5  1804.5  2376.0"
      ]
     },
     "metadata": {},
     "output_type": "display_data"
    }
   ],
   "source": [
    "grasas_sat_bysex = groupby_sex[\"Grasas_sat\"]\n",
    "alcohol_bysex = groupby_sex[\"Alcohol\"]\n",
    "calories_bysex = groupby_sex[\"Calorías\"]\n",
    "\n",
    "print(\"Grasas_sat\")\n",
    "display(grasas_sat_bysex.describe())\n",
    "\n",
    "print(\"Alcohol\")\n",
    "display(alcohol_bysex.describe())\n",
    "\n",
    "print(\"Calorías\")\n",
    "display(calories_bysex.describe())"
   ]
  },
  {
   "cell_type": "markdown",
   "metadata": {},
   "source": [
    "### 3.2- Comparación con boxplots"
   ]
  },
  {
   "cell_type": "code",
   "execution_count": 76,
   "metadata": {},
   "outputs": [
    {
     "data": {
      "text/plain": [
       "Text(0.5, 1.0, 'Masculino')"
      ]
     },
     "execution_count": 76,
     "metadata": {},
     "output_type": "execute_result"
    },
    {
     "data": {
      "image/png": "[encoded data removed]",
      "text/plain": [
       "<Figure size 720x360 with 2 Axes>"
      ]
     },
     "metadata": {
      "needs_background": "light"
     },
     "output_type": "display_data"
    },
    {
     "data": {
      "image/png": "[encoded data removed]",
      "text/plain": [
       "<Figure size 720x360 with 2 Axes>"
      ]
     },
     "metadata": {
      "needs_background": "light"
     },
     "output_type": "display_data"
    },
    {
     "data": {
      "image/png": "[encoded data removed]",
      "text/plain": [
       "<Figure size 720x360 with 2 Axes>"
      ]
     },
     "metadata": {
      "needs_background": "light"
     },
     "output_type": "display_data"
    }
   ],
   "source": [
    "# *********************************************************************************************\n",
    "# * Boxplots de Grasas_sat por Sexo\n",
    "# *********************************************************************************************\n",
    "\n",
    "fig, axes = plt.subplots(nrows=1, ncols=2, figsize=(10, 5))\n",
    "fig.suptitle(\"Comparación de Grasas_sat entre sexo femenino y masculino\")\n",
    "\n",
    "axes[0].boxplot(groupby_sex.get_group(\"F\")[\"Grasas_sat\"])\n",
    "axes[0].set_title(\"Femenino\")\n",
    "\n",
    "axes[1].boxplot(groupby_sex.get_group(\"M\")[\"Grasas_sat\"])\n",
    "axes[1].set_title(\"Masculino\")\n",
    "\n",
    "# *********************************************************************************************\n",
    "# * Boxplots de Alcohol por Sexo\n",
    "# *********************************************************************************************\n",
    "\n",
    "fig, axes = plt.subplots(nrows=1, ncols=2, figsize=(10, 5))\n",
    "fig.suptitle(\"Comparación de Alcohol entre sexo femenino y masculino\")\n",
    "\n",
    "axes[0].boxplot(groupby_sex.get_group(\"F\")[\"Alcohol\"])\n",
    "axes[0].set_title(\"Femenino\")\n",
    "\n",
    "axes[1].boxplot(groupby_sex.get_group(\"M\")[\"Alcohol\"])\n",
    "axes[1].set_title(\"Masculino\")\n",
    "\n",
    "# *********************************************************************************************\n",
    "# * Boxplots de Calorías por Sexo\n",
    "# *********************************************************************************************\n",
    "\n",
    "fig, axes = plt.subplots(nrows=1, ncols=2, figsize=(10, 5))\n",
    "fig.suptitle(\"Comparación de Calorías entre sexo femenino y masculino\")\n",
    "\n",
    "axes[0].boxplot(groupby_sex.get_group(\"F\")[\"Calorías\"])\n",
    "axes[0].set_title(\"Femenino\")\n",
    "\n",
    "axes[1].boxplot(groupby_sex.get_group(\"M\")[\"Calorías\"])\n",
    "axes[1].set_title(\"Masculino\")"
   ]
  },
  {
   "cell_type": "markdown",
   "metadata": {},
   "source": [
    "## 4- Análisis de la variable Alcohol en base a las Calorías por categorías"
   ]
  },
  {
   "cell_type": "code",
   "execution_count": null,
   "metadata": {},
   "outputs": [],
   "source": [
    "data = pd.read_csv(\"./dataset.csv\", header=0)\n",
    "data.loc[data[\"Sexo\"] == \"F\", \"Sexo\"] = 1\n",
    "data.loc[data[\"Sexo\"] == \"M\", \"Sexo\"] = -1\n",
    "estimated_data = estimate_missing_values(data, k=5)\n",
    "\n",
    "calories_classification = estimated_data.copy()\n",
    "\n",
    "CALORIES_CATEGORY = [{\n",
    "    \"floor\": 0,\n",
    "    \"ceiling\": 1100,\n",
    "},\n",
    "    {\n",
    "    \"floor\": 1100,\n",
    "    \"ceiling\": 1700,\n",
    "},\n",
    "    {\n",
    "    \"floor\": 1700,\n",
    "    \"ceiling\": -1,\n",
    "}]\n",
    "\n",
    "# Pisamos los datos de calorías con las cotas inferiores de las categorías\n",
    "# Esto se realiza para aplicar ténicas de agrupación por categoría\n",
    "for calories_category in CALORIES_CATEGORY[:-1]:\n",
    "    calories_classification.loc[(calories_classification[\"Calorías\"] >= calories_category[\"floor\"]) & (\n",
    "        calories_classification[\"Calorías\"] < calories_category[\"ceiling\"]), 'Calorías'] = calories_category[\"floor\"]\n",
    "\n",
    "calories_classification.loc[calories_classification[\"Calorías\"] >=\n",
    "                           CALORIES_CATEGORY[-1][\"floor\"], 'Calorías'] = CALORIES_CATEGORY[-1][\"floor\"]\n",
    "\n",
    "\n",
    "# Nos quedamos solo con las columnas de interés\n",
    "df_alcohol = calories_classification.loc[:, [\"Calorías\", \"Alcohol\"]]\n",
    "# Agrupamos por categoría de calorías\n",
    "df_calories_groupby = df_alcohol.groupby(\"Calorías\", axis=0)\n",
    "\n",
    "# Armamos clasificación de alcohol por cada categoría\n",
    "alcohol_classification = []\n",
    "labels = []\n",
    "for calories_group in df_calories_groupby.groups.keys():\n",
    "    alcohol_classification.append(df_calories_groupby.get_group(\n",
    "        calories_group)['Alcohol'].values)\n",
    "    labels.append(calories_group)\n",
    "\n",
    "fig, axes = plt.subplots(figsize=(10, 5))\n",
    "axes.boxplot(alcohol_classification)\n",
    "axes.set_xticks(range(1, len(labels) + 1), labels)\n",
    "axes.set_title(\"Boxplots Alcohol por categoría de Calorías\")"
   ]
  }
 ],
 "metadata": {
  "kernelspec": {
   "display_name": "Python 3.9.12 64-bit",
   "language": "python",
   "name": "python3"
  },
  "language_info": {
   "codemirror_mode": {
    "name": "ipython",
    "version": 3
   },
   "file_extension": ".py",
   "mimetype": "text/x-python",
   "name": "python",
   "nbconvert_exporter": "python",
   "pygments_lexer": "ipython3",
   "version": "3.9.12"
  },
  "orig_nbformat": 4,
  "vscode": {
   "interpreter": {
    "hash": "aee8b7b246df8f9039afb4144a1f6fd8d2ca17a180786b69acc140d282b71a49"
   }
  }
 },
 "nbformat": 4,
 "nbformat_minor": 2
}
