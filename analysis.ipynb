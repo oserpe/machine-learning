{
 "cells": [
  {
   "cell_type": "code",
   "execution_count": null,
   "metadata": {},
   "outputs": [],
   "source": [
    "import pandas as pd\n",
    "from IPython.display import display\n",
    "import matplotlib.pyplot as plt\n",
    "from sklearn.preprocessing import StandardScaler"
   ]
  },
  {
   "cell_type": "markdown",
   "metadata": {},
   "source": [
    "## Método para estimación de datos faltantes"
   ]
  },
  {
   "cell_type": "code",
   "execution_count": null,
   "metadata": {},
   "outputs": [],
   "source": [
    "data = pd.read_csv(\"./dataset.csv\", header=0)\n",
    "\n",
    "\n",
    "MISSING_VALUE = 999.99\n",
    "\n",
    "\n",
    "def estimate_missing_values(data, k):\n",
    "\n",
    "    # Separamos los datos en dos conjuntos:\n",
    "    # - Completos: los datos que no tienen valores en MISSING_VALUE\n",
    "    complete_df = data\n",
    "    complete_df = complete_df[~complete_df.isin([MISSING_VALUE]).any(axis=1)]\n",
    "\n",
    "    # - Incompletos: los datos que tienen al menos 1 valor en MISSING_VALUE\n",
    "    incomplete_df = data\n",
    "    incomplete_df = incomplete_df[incomplete_df.isin(\n",
    "        [MISSING_VALUE]).any(axis=1)]\n",
    "\n",
    "    # Estandarizamos ambos conjuntos\n",
    "    scaler = StandardScaler()\n",
    "    std_complete_df = scaler.fit_transform(complete_df)\n",
    "    std_incomplete_df = scaler.fit_transform(incomplete_df)\n",
    "\n",
    "    estimated_data = data.copy()\n",
    "\n",
    "    # Calculamos la distancia euclidea entre cada dato incompleto y todos los datos completos\n",
    "    for incomplete_row in std_incomplete_df:\n",
    "        distances = []\n",
    "        missing_column_names = incomplete_row.columns[incomplete_row.isin(\n",
    "            [MISSING_VALUE]).any(axis=1)]\n",
    "\n",
    "        # Eliminamos los datos faltantes\n",
    "        incomplete_row = incomplete_row.drop(missing_column_names, axis=1)\n",
    "\n",
    "        for i, complete_row in enumerate(std_complete_df):\n",
    "            # Eliminamos los datos faltantes\n",
    "            complete_row = complete_row.drop(missing_column_names, axis=1)\n",
    "\n",
    "            # Almacenamos distancia para ordenamiento e índice de fila \n",
    "            distances[i] = (np.linalg.norm(incomplete_row - complete_row), i)\n",
    "\n",
    "        # Calculamos los k vecinos más cercanos\n",
    "        k_nearest_neighbors_indexes = map(lambda x: x[0], sorted(\n",
    "            distances, key=lambda distance: distance[0])[:k])\n",
    "\n",
    "        k_nearest_neighbors_df = complete_df.filter(\n",
    "            items=k_nearest_neighbors_indexes, axis=0)\n",
    "\n",
    "        # Calculamos la media de los k vecinos más cercanos para cada dato incompleto\n",
    "        for missing_column_name in missing_column_names:\n",
    "            estimated_data.loc[incomplete_row.name, missing_column_name] = k_nearest_neighbors_df[missing_column_name].mean()\n",
    "        \n",
    "    return estimated_data\n",
    "\n",
    "# Eliminar columna \"sexo\"\n",
    "data = data.drop([\"Sexo\"], axis=1)\n",
    "\n",
    "estimated = estimate_missing_values(data, k=5)\n",
    "display(estimated)\n",
    "# print(distances)\n",
    "# print(min(distances))\n",
    "# print(complete_df.iloc[distances.index(min(distances))])\n",
    "# print(\"\\n\")\n"
   ]
  },
  {
   "cell_type": "markdown",
   "metadata": {},
   "source": [
    "### Boxplots de cada variable"
   ]
  },
  {
   "cell_type": "code",
   "execution_count": null,
   "metadata": {},
   "outputs": [],
   "source": [
    "\n",
    "# Plot de data sin escalar\n",
    "fig, axes = plt.subplots(nrows=1, ncols=3, figsize=(10, 5))\n",
    "axes[0].boxplot(complete_df[\"Calorías\"])\n",
    "axes[0].set_title(\"Calorías\")\n",
    "\n",
    "axes[1].boxplot(complete_df[\"Alcohol\"])\n",
    "axes[1].set_title(\"Alcohol\")\n",
    "\n",
    "axes[2].boxplot(complete_df[\"Grasas_sat\"])\n",
    "axes[2].set_title(\"Grasas_sat\")"
   ]
  },
  {
   "cell_type": "markdown",
   "metadata": {},
   "source": [
    "### Comparación de datos sin estandarizar vs estandarizados mediante boxplots"
   ]
  },
  {
   "cell_type": "code",
   "execution_count": null,
   "metadata": {},
   "outputs": [],
   "source": [
    "# Plot de data sin escalar\n",
    "data_without_genre = complete_df.drop(\"Sexo\", axis=1)\n",
    "fig, axes = plt.subplots(nrows=1, ncols=2, figsize=(10, 5))\n",
    "axes[0].boxplot(data_without_genre)\n",
    "axes[0].set_xticks([1, 2, 3], data_without_genre.columns)\n",
    "axes[0].set_title(\"Boxplot de datos sin estandarizar\")\n",
    "\n",
    "\n",
    "scaler = StandardScaler().fit(data_without_genre)\n",
    "scaled_data = scaler.transform(data_without_genre)\n",
    "# Plot de data escalada\n",
    "axes[1].boxplot(pd.DataFrame(scaled_data))\n",
    "axes[1].set_xticks([1, 2, 3], data_without_genre.columns)\n",
    "axes[1].set_title(\"Boxplot de datos estandarizados\")"
   ]
  },
  {
   "cell_type": "markdown",
   "metadata": {},
   "source": [
    "### Reemplazo de datos faltantes"
   ]
  },
  {
   "cell_type": "code",
   "execution_count": null,
   "metadata": {},
   "outputs": [],
   "source": []
  }
 ],
 "metadata": {
  "kernelspec": {
   "display_name": "Python 3.9.12 64-bit",
   "language": "python",
   "name": "python3"
  },
  "language_info": {
   "codemirror_mode": {
    "name": "ipython",
    "version": 3
   },
   "file_extension": ".py",
   "mimetype": "text/x-python",
   "name": "python",
   "nbconvert_exporter": "python",
   "pygments_lexer": "ipython3",
   "version": "3.9.12"
  },
  "orig_nbformat": 4,
  "vscode": {
   "interpreter": {
    "hash": "aee8b7b246df8f9039afb4144a1f6fd8d2ca17a180786b69acc140d282b71a49"
   }
  }
 },
 "nbformat": 4,
 "nbformat_minor": 2
}
