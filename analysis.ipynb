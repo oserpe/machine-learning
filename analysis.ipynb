{
 "cells": [
  {
   "cell_type": "code",
   "execution_count": null,
   "metadata": {},
   "outputs": [],
   "source": [
    "import pandas as pd\n",
    "from IPython.display import display\n",
    "import matplotlib.pyplot as plt\n",
    "from sklearn.preprocessing import StandardScaler\n",
    "import numpy as np"
   ]
  },
  {
   "cell_type": "markdown",
   "metadata": {},
   "source": [
    "## Método para estimación de datos faltantes"
   ]
  },
  {
   "cell_type": "code",
   "execution_count": null,
   "metadata": {},
   "outputs": [],
   "source": [
    "data = pd.read_csv(\"./dataset.csv\", header=0)\n",
    "\n",
    "\n",
    "MISSING_VALUE = 999.99\n",
    "\n",
    "\n",
    "def estimate_missing_values(data, k):\n",
    "\n",
    "    # Separamos los datos en dos conjuntos:\n",
    "    # - Completos: los datos que no tienen valores en MISSING_VALUE\n",
    "    complete_df = data\n",
    "    complete_df = complete_df[~complete_df.isin([MISSING_VALUE]).any(axis=1)]\n",
    "\n",
    "    # - Incompletos: los datos que tienen al menos 1 valor en MISSING_VALUE\n",
    "    incomplete_df = data\n",
    "    incomplete_df = incomplete_df[incomplete_df.isin(\n",
    "        [MISSING_VALUE]).any(axis=1)]\n",
    "\n",
    "    # Estandarizamos ambos conjuntos\n",
    "    scaler = StandardScaler()\n",
    "    std_complete_df = pd.DataFrame(scaler.fit_transform(complete_df),columns = complete_df.columns)\n",
    "    std_incomplete_df = pd.DataFrame(scaler.fit_transform(incomplete_df),columns = incomplete_df.columns)\n",
    "\n",
    "    estimated_data = data.copy()      \n",
    "\n",
    "    # group our df by index and creates a dict with lists of df's as values\n",
    "    df_dict = dict(\n",
    "        list(\n",
    "            incomplete_df.groupby(incomplete_df.index)\n",
    "        )\n",
    "    )\n",
    "\n",
    "    print(df_dict.items())\n",
    "\n",
    "    for k, v in df_dict.items():               # k: name of index, v: is a df\n",
    "        check = v.columns[(v == MISSING_VALUE).any()]\n",
    "        if len(check) > 0:\n",
    "            print((k, check.to_list()))\n",
    "\n",
    "    # Calculamos la distancia euclidea entre cada dato incompleto y todos los datos completos\n",
    "    for i in range(len(incomplete_df)):\n",
    "        incomplete_row_df = incomplete_df.iloc[[i]]\n",
    "        std_incomplete_row = std_incomplete_df.iloc[[i]]\n",
    "        \n",
    "        missing_column_names = incomplete_row_df.columns[(incomplete_row_df == MISSING_VALUE).iloc[0]] \n",
    "\n",
    "        # Eliminamos los datos faltantes\n",
    "        std_incomplete_row = std_incomplete_row.drop(missing_column_names, axis=1)\n",
    "\n",
    "            # Eliminamos los datos faltantes\n",
    "        std_complete_aux = std_complete_df.drop(missing_column_names, axis=1)\n",
    "        distances = []\n",
    "        for j in range(len(std_complete_aux)):\n",
    "            # Almacenamos distancia para ordenamiento e índice de fila \n",
    "            distances.append((np.linalg.norm(std_incomplete_row - std_complete_aux.iloc[[j]]), j))\n",
    "\n",
    "        # Calculamos los k vecinos más cercanos\n",
    "        k_nearest_neighbors_indexes = map(lambda x: x[1], sorted(\n",
    "            distances, key=lambda distance: distance[0])[:k])\n",
    "\n",
    "        # Nos quedamos con los datos de los k vecinos más cercanos\n",
    "        k_nearest_neighbors_df = complete_df.filter(\n",
    "            items=k_nearest_neighbors_indexes, axis=0)\n",
    "\n",
    "        # Calculamos la media de los k vecinos más cercanos para cada dato incompleto\n",
    "        for missing_column_name in missing_column_names:\n",
    "            estimated_data.at[incomplete_row_df.index[0], missing_column_name] = k_nearest_neighbors_df[missing_column_name].mean()\n",
    "    return estimated_data\n",
    "\n",
    "\n",
    "data.loc[data[\"Sexo\"] == \"F\", \"Sexo\"] = 1\n",
    "data.loc[data[\"Sexo\"] == \"M\", \"Sexo\"] = -1\n",
    "\n",
    "estimated = estimate_missing_values(data, k=5)\n",
    "display(estimated)\n"
   ]
  },
  {
   "cell_type": "markdown",
   "metadata": {},
   "source": [
    "### Boxplots de cada variable"
   ]
  },
  {
   "cell_type": "code",
   "execution_count": null,
   "metadata": {},
   "outputs": [],
   "source": [
    "\n",
    "# Plot de data sin escalar\n",
    "fig, axes = plt.subplots(nrows=1, ncols=3, figsize=(10, 5))\n",
    "axes[0].boxplot(data[\"Calorías\"])\n",
    "axes[0].set_title(\"Calorías\")\n",
    "\n",
    "axes[1].boxplot(data[\"Alcohol\"])\n",
    "axes[1].set_title(\"Alcohol\")\n",
    "\n",
    "axes[2].boxplot(data[\"Grasas_sat\"])\n",
    "axes[2].set_title(\"Grasas_sat\")"
   ]
  },
  {
   "cell_type": "markdown",
   "metadata": {},
   "source": [
    "### Comparación de datos sin estandarizar vs estandarizados mediante boxplots"
   ]
  },
  {
   "cell_type": "code",
   "execution_count": null,
   "metadata": {},
   "outputs": [],
   "source": [
    "# Plot de data sin escalar\n",
    "data_without_genre = data.drop(\"Sexo\", axis=1)\n",
    "fig, axes = plt.subplots(nrows=1, ncols=2, figsize=(10, 5))\n",
    "axes[0].boxplot(data_without_genre)\n",
    "axes[0].set_xticks([1, 2, 3], data_without_genre.columns)\n",
    "axes[0].set_title(\"Boxplot de datos sin estandarizar\")\n",
    "\n",
    "\n",
    "scaler = StandardScaler().fit(data_without_genre)\n",
    "scaled_data = scaler.transform(data_without_genre)\n",
    "# Plot de data escalada\n",
    "axes[1].boxplot(pd.DataFrame(scaled_data))\n",
    "axes[1].set_xticks([1, 2, 3], data_without_genre.columns)\n",
    "axes[1].set_title(\"Boxplot de datos estandarizados\")"
   ]
  },
  {
   "cell_type": "markdown",
   "metadata": {},
   "source": [
    "### Análisis de la variable Alcohol en base a las Calorías por categorías"
   ]
  },
  {
   "cell_type": "code",
   "execution_count": null,
   "metadata": {},
   "outputs": [],
   "source": [
    "data = pd.read_csv(\"./dataset.csv\", header=0)\n",
    "\n",
    "calorie_classification = data.copy()\n",
    "\n",
    "CALORIES_CATEGORY = [{\n",
    "    \"floor\":0,\n",
    "    \"ceiling\":1100,\n",
    "}, \n",
    "{\n",
    "    \"floor\":1100,\n",
    "    \"ceiling\":1700,\n",
    "},\n",
    "{\n",
    "    \"floor\":1700,\n",
    "    \"ceiling\":-1,\n",
    "}]\n",
    "\n",
    "\n",
    "for calorie_category in CALORIES_CATEGORY[:-1]:\n",
    "    calorie_classification.loc[(calorie_classification[\"Calorías\"] >= calorie_category[\"floor\"]) & (calorie_classification[\"Calorías\"] < calorie_category[\"ceiling\"]), 'Calorías'] = calorie_category[\"floor\"]\n",
    "\n",
    "calorie_classification.loc[calorie_classification[\"Calorías\"] >= CALORIES_CATEGORY[-1][\"floor\"], 'Calorías'] = CALORIES_CATEGORY[-1][\"floor\"]\n",
    "\n",
    "# Filter out columns of our interest\n",
    "df_alcohol = calorie_classification.loc[:, [\"Calorías\", \"Alcohol\"]]\n",
    "# Group the data\n",
    "df_calorie_groupby = df_alcohol.groupby(\"Calorías\", axis=0)\n",
    " \n",
    "# Build alcohol classification per category\n",
    "alcohol_classification = []\n",
    "labels = []\n",
    "for category_classification in df_calorie_groupby.groups.keys():\n",
    "    alcohol_classification.append(df_calorie_groupby.get_group(category_classification)['Alcohol'].values)\n",
    "    labels.append(category_classification)\n",
    "\n",
    "fig, axes = plt.subplots(figsize=(10, 5))\n",
    "axes.boxplot(alcohol_classification)\n",
    "axes.set_xticks(range(1, len(labels) + 1), labels)\n",
    "axes.set_title(\"Boxplots Alcohol por categoría de Calorías\")\n",
    "\n",
    "# TODO: maybe add mean to every boxplot?\n",
    "\n",
    "    \n"
   ]
  }
 ],
 "metadata": {
  "kernelspec": {
   "display_name": "Python 3.10.6 64-bit",
   "language": "python",
   "name": "python3"
  },
  "language_info": {
   "codemirror_mode": {
    "name": "ipython",
    "version": 3
   },
   "file_extension": ".py",
   "mimetype": "text/x-python",
   "name": "python",
   "nbconvert_exporter": "python",
   "pygments_lexer": "ipython3",
   "version": "3.10.6"
  },
  "orig_nbformat": 4,
  "vscode": {
   "interpreter": {
    "hash": "964b1fa5364468aa142ca826e1bab4686480a96d9d38c308c84d42c2ef7b8b78"
   }
  }
 },
 "nbformat": 4,
 "nbformat_minor": 2
}
