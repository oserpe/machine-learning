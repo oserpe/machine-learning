{
 "cells": [
  {
   "cell_type": "code",
   "execution_count": null,
   "metadata": {},
   "outputs": [],
   "source": [
    "import pandas as pd\n",
    "from IPython.display import display\n",
    "import matplotlib.pyplot as plt\n",
    "from sklearn.preprocessing import StandardScaler\n",
    "import numpy as np\n",
    "import seaborn as sns"
   ]
  },
  {
   "cell_type": "markdown",
   "metadata": {},
   "source": [
    "## 1- Método para estimación de datos faltantes"
   ]
  },
  {
   "cell_type": "code",
   "execution_count": null,
   "metadata": {},
   "outputs": [],
   "source": [
    "data = pd.read_csv(\"./dataset.csv\", header=0)\n",
    "\n",
    "\n",
    "MISSING_VALUE = 999.99\n",
    "\n",
    "\n",
    "def estimate_missing_values(data, k):\n",
    "\n",
    "    # Separamos los datos en dos conjuntos:\n",
    "    # - Completos: los datos que no tienen valores en MISSING_VALUE\n",
    "    complete_df = data\n",
    "    complete_df = complete_df[~complete_df.isin([MISSING_VALUE]).any(axis=1)]\n",
    "\n",
    "    # - Incompletos: los datos que tienen al menos 1 valor en MISSING_VALUE\n",
    "    incomplete_df = data\n",
    "    incomplete_df = incomplete_df[incomplete_df.isin(\n",
    "        [MISSING_VALUE]).any(axis=1)]\n",
    "\n",
    "    # Estandarizamos ambos conjuntos\n",
    "    scaler = StandardScaler()\n",
    "    std_complete_df = pd.DataFrame(scaler.fit_transform(complete_df),columns = complete_df.columns)\n",
    "    std_incomplete_df = pd.DataFrame(scaler.fit_transform(incomplete_df),columns = incomplete_df.columns)\n",
    "\n",
    "    estimated_data = data.copy()      \n",
    "\n",
    "    # Calculamos la distancia euclidea entre cada dato incompleto y todos los datos completos\n",
    "    for i in range(len(incomplete_df)):\n",
    "        incomplete_row_df = incomplete_df.iloc[[i]]\n",
    "        std_incomplete_row = std_incomplete_df.iloc[[i]]\n",
    "        \n",
    "        missing_column_names = incomplete_row_df.columns[(incomplete_row_df == MISSING_VALUE).iloc[0]] \n",
    "\n",
    "        # Eliminamos los datos faltantes\n",
    "        std_incomplete_row = std_incomplete_row.drop(missing_column_names, axis=1)\n",
    "\n",
    "            # Eliminamos los datos faltantes\n",
    "        std_complete_aux = std_complete_df.drop(missing_column_names, axis=1)\n",
    "        distances = []\n",
    "        for j in range(len(std_complete_aux)):\n",
    "            # Almacenamos distancia para ordenamiento e índice de fila \n",
    "            distances.append((np.linalg.norm(std_incomplete_row - std_complete_aux.iloc[[j]]), j))\n",
    "\n",
    "        # Calculamos los k vecinos más cercanos\n",
    "        k_nearest_neighbors_indexes = map(lambda x: x[1], sorted(\n",
    "            distances, key=lambda distance: distance[0])[:k])\n",
    "\n",
    "        # Nos quedamos con los datos de los k vecinos más cercanos\n",
    "        k_nearest_neighbors_df = complete_df.filter(\n",
    "            items=k_nearest_neighbors_indexes, axis=0)\n",
    "\n",
    "        # Calculamos la media de los k vecinos más cercanos para cada dato incompleto\n",
    "        for missing_column_name in missing_column_names:\n",
    "            estimated_data.at[incomplete_row_df.index[0], missing_column_name] = k_nearest_neighbors_df[missing_column_name].mean()\n",
    "    \n",
    "    return estimated_data"
   ]
  },
  {
   "cell_type": "markdown",
   "metadata": {},
   "source": [
    "## 2- Comparación de datos sin estandarizar vs estandarizados mediante boxplots"
   ]
  },
  {
   "cell_type": "code",
   "execution_count": null,
   "metadata": {},
   "outputs": [],
   "source": [
    "raw_data = data.drop(\"Sexo\", axis=1)\n",
    "\n",
    "trimmed_data = data[~data.isin([MISSING_VALUE]).any(axis=1)]\n",
    "trimmed_data = trimmed_data.drop(\"Sexo\", axis=1)\n",
    "\n",
    "data.loc[data[\"Sexo\"] == \"F\", \"Sexo\"] = 1\n",
    "data.loc[data[\"Sexo\"] == \"M\", \"Sexo\"] = -1\n",
    "\n",
    "estimated = estimate_missing_values(data, k=5)\n",
    "\n",
    "estimated_data = estimated.drop(\"Sexo\", axis=1)"
   ]
  },
  {
   "cell_type": "markdown",
   "metadata": {},
   "source": [
    "### 2.1- Comparación de estimadores"
   ]
  },
  {
   "cell_type": "code",
   "execution_count": null,
   "metadata": {},
   "outputs": [],
   "source": [
    "print(\"DATOS SIN MODIFICAR\")\n",
    "display(raw_data.describe());\n",
    "\n",
    "print(\"ELIMINANDO DATOS FALTANTES\")\n",
    "display(trimmed_data.describe());\n",
    "\n",
    "print(\"RELLENANDO DATOS FALTANTES CON ESTIMACIÓN\")\n",
    "display(estimated_data.describe());"
   ]
  },
  {
   "cell_type": "markdown",
   "metadata": {},
   "source": [
    "### 2.2- Comparación de datos no estandarizados vs estandarizados"
   ]
  },
  {
   "cell_type": "code",
   "execution_count": null,
   "metadata": {},
   "outputs": [],
   "source": [
    "# *********************************************************************************************\n",
    "# * Sin modificar datos\n",
    "# *********************************************************************************************\n",
    "# Plot de datos sin estandarizar\n",
    "fig, axes = plt.subplots(nrows=1, ncols=2, figsize=(10, 5))\n",
    "axes[0].boxplot(raw_data)\n",
    "axes[0].set_xticks([1, 2, 3], raw_data.columns)\n",
    "axes[0].set_title(\"Boxplot de datos sin estandarizar\")\n",
    "\n",
    "# Plot de datos estandarizados\n",
    "scaler = StandardScaler().fit(raw_data)\n",
    "std_raw_data = pd.DataFrame(scaler.transform(raw_data), columns=raw_data.columns)\n",
    "axes[1].boxplot(std_raw_data)\n",
    "axes[1].set_xticks([1, 2, 3], raw_data.columns)\n",
    "axes[1].set_title(\"Boxplot de datos estandarizados\")\n",
    "\n",
    "\n",
    "# *********************************************************************************************\n",
    "# * Eliminando datos faltantes\n",
    "# *********************************************************************************************\n",
    "\n",
    "# Plot de datos sin estandarizar\n",
    "fig, axes = plt.subplots(nrows=1, ncols=2, figsize=(10, 5))\n",
    "axes[0].boxplot(trimmed_data)\n",
    "axes[0].set_xticks([1, 2, 3], trimmed_data.columns)\n",
    "axes[0].set_title(\"Boxplot de datos sin estandarizar\\n (Eliminando datos faltantes)\")\n",
    "\n",
    "\n",
    "# Plot de datos estandarizados\n",
    "scaler = StandardScaler().fit(trimmed_data)\n",
    "scaled_data = scaler.transform(trimmed_data)\n",
    "axes[1].boxplot(pd.DataFrame(scaled_data))\n",
    "axes[1].set_xticks([1, 2, 3], trimmed_data.columns)\n",
    "axes[1].set_title(\"Boxplot de datos estandarizados\\n (Eliminando datos faltantes)\")\n",
    "\n",
    "# *********************************************************************************************\n",
    "# * Rellenando los datos faltantes con la media de los datos de los k vecinos más cercanos\n",
    "# *********************************************************************************************\n",
    "\n",
    "fig, axes = plt.subplots(nrows=1, ncols=2, figsize=(10, 5))\n",
    "axes[0].boxplot(estimated_data)\n",
    "axes[0].set_xticks([1, 2, 3], estimated_data.columns)\n",
    "axes[0].set_title(\"Boxplot de datos sin estandarizar\\n (Rellenos con estimación)\")\n",
    "\n",
    "\n",
    "scaler = StandardScaler().fit(estimated_data)\n",
    "scaled_data = scaler.transform(estimated_data)\n",
    "# Plot de data escalada\n",
    "axes[1].boxplot(pd.DataFrame(scaled_data))\n",
    "axes[1].set_xticks([1, 2, 3], estimated_data.columns)\n",
    "axes[1].set_title(\"Boxplot de datos estandarizados\\n (Rellenos con estimación)\")\n",
    "\n"
   ]
  },
  {
   "cell_type": "markdown",
   "metadata": {},
   "source": [
    "### 2.3- Análisis de variables"
   ]
  },
  {
   "cell_type": "code",
   "execution_count": null,
   "metadata": {},
   "outputs": [],
   "source": [
    "\n",
    "# *********************************************************************************************\n",
    "# * Boxplots de cada variable por separado\n",
    "# *********************************************************************************************\n",
    "\n",
    "# Boxplots de variables sin modificar\n",
    "fig, axes = plt.subplots(nrows=1, ncols=3, figsize=(10, 5))\n",
    "fig.suptitle(\"Boxplots de variables sin modificar\")\n",
    "\n",
    "axes[0].boxplot(raw_data[\"Calorías\"])\n",
    "axes[0].set_title(\"Calorías\")\n",
    "\n",
    "axes[1].boxplot(raw_data[\"Alcohol\"])\n",
    "axes[1].set_title(\"Alcohol\")\n",
    "\n",
    "axes[2].boxplot(raw_data[\"Grasas_sat\"])\n",
    "axes[2].set_title(\"Grasas_sat\")\n",
    "\n",
    "# Boxplots de variables eliminando muestras con datos faltantes\n",
    "fig, axes = plt.subplots(nrows=1, ncols=3, figsize=(10, 5))\n",
    "fig.suptitle(\"Boxplots de variables eliminando muestras con datos faltantes\")\n",
    "\n",
    "axes[0].boxplot(trimmed_data[\"Calorías\"])\n",
    "axes[0].set_title(\"Calorías\")\n",
    "\n",
    "axes[1].boxplot(trimmed_data[\"Alcohol\"])\n",
    "axes[1].set_title(\"Alcohol\")\n",
    "\n",
    "axes[2].boxplot(trimmed_data[\"Grasas_sat\"])\n",
    "axes[2].set_title(\"Grasas_sat\")\n",
    "\n",
    "# Boxplots de variables rellenando datos faltantes\n",
    "fig, axes = plt.subplots(nrows=1, ncols=3, figsize=(10, 5))\n",
    "fig.suptitle(\"Boxplots de variables rellenando datos faltantes\")\n",
    "\n",
    "axes[0].boxplot(estimated_data[\"Calorías\"])\n",
    "axes[0].set_title(\"Calorías\")\n",
    "\n",
    "axes[1].boxplot(estimated_data[\"Alcohol\"])\n",
    "axes[1].set_title(\"Alcohol\")\n",
    "\n",
    "axes[2].boxplot(estimated_data[\"Grasas_sat\"])\n",
    "axes[2].set_title(\"Grasas_sat\")"
   ]
  },
  {
   "cell_type": "markdown",
   "metadata": {},
   "source": [
    "## 3- Análisis de Grasas_sat, Alcohol, y Categorías en base al Sexo"
   ]
  },
  {
   "cell_type": "code",
   "execution_count": null,
   "metadata": {},
   "outputs": [],
   "source": [
    "# Utilizando los datos sin estandarizar, y rellenando los datos faltantes\n",
    "estimated_data.loc[estimated_data[\"Sexo\"] == 1, \"Sexo\"] = \"F\"\n",
    "estimated_data.loc[estimated_data[\"Sexo\"] == -1, \"Sexo\"] = \"M\"\n",
    "groupby_sex = estimated_data.groupby(\"Sexo\", axis=0)"
   ]
  },
  {
   "cell_type": "markdown",
   "metadata": {},
   "source": [
    "### 3.1- Estimadores"
   ]
  },
  {
   "cell_type": "code",
   "execution_count": null,
   "metadata": {},
   "outputs": [],
   "source": [
    "grasas_sat_bysex = groupby_sex[\"Grasas_sat\"]\n",
    "alcohol_bysex = groupby_sex[\"Alcohol\"]\n",
    "calories_bysex = groupby_sex[\"Calorías\"]\n",
    "\n",
    "print(\"Grasas_sat\")\n",
    "display(grasas_sat_bysex.describe())\n",
    "\n",
    "print(\"Alcohol\")\n",
    "display(alcohol_bysex.describe())\n",
    "\n",
    "print(\"Calorías\")\n",
    "display(calories_bysex.describe())"
   ]
  },
  {
   "cell_type": "markdown",
   "metadata": {},
   "source": [
    "### 3.2- Comparación con boxplots"
   ]
  },
  {
   "cell_type": "code",
   "execution_count": null,
   "metadata": {},
   "outputs": [],
   "source": [
    "# *********************************************************************************************\n",
    "# * Boxplots de Grasas_sat por Sexo\n",
    "# *********************************************************************************************\n",
    "\n",
    "fig, axes = plt.subplots(nrows=1, ncols=2, figsize=(10, 5))\n",
    "fig.suptitle(\"Comparación de Grasas_sat entre sexo femenino y masculino\")\n",
    "\n",
    "axes[0].boxplot(groupby_sex.get_group(\"F\")[\"Grasas_sat\"])\n",
    "axes[0].set_title(\"Femenino\")\n",
    "\n",
    "axes[1].boxplot(groupby_sex.get_group(\"M\")[\"Grasas_sat\"])\n",
    "axes[1].set_title(\"Masculino\")\n",
    "\n",
    "# *********************************************************************************************\n",
    "# * Boxplots de Alcohol por Sexo\n",
    "# *********************************************************************************************\n",
    "\n",
    "fig, axes = plt.subplots(nrows=1, ncols=2, figsize=(10, 5))\n",
    "fig.suptitle(\"Comparación de Alcohol entre sexo femenino y masculino\")\n",
    "\n",
    "axes[0].boxplot(groupby_sex.get_group(\"F\")[\"Alcohol\"])\n",
    "axes[0].set_title(\"Femenino\")\n",
    "\n",
    "axes[1].boxplot(groupby_sex.get_group(\"M\")[\"Alcohol\"])\n",
    "axes[1].set_title(\"Masculino\")\n",
    "\n",
    "# *********************************************************************************************\n",
    "# * Boxplots de Calorías por Sexo\n",
    "# *********************************************************************************************\n",
    "\n",
    "fig, axes = plt.subplots(nrows=1, ncols=2, figsize=(10, 5))\n",
    "fig.suptitle(\"Comparación de Calorías entre sexo femenino y masculino\")\n",
    "\n",
    "axes[0].boxplot(groupby_sex.get_group(\"F\")[\"Calorías\"])\n",
    "axes[0].set_title(\"Femenino\")\n",
    "\n",
    "axes[1].boxplot(groupby_sex.get_group(\"M\")[\"Calorías\"])\n",
    "axes[1].set_title(\"Masculino\")"
   ]
  },
  {
   "cell_type": "markdown",
   "metadata": {},
   "source": [
    "## 4- Análisis de la variable Alcohol en base a las Calorías por categorías"
   ]
  },
  {
   "cell_type": "code",
   "execution_count": null,
   "metadata": {},
   "outputs": [],
   "source": [
    "data = pd.read_csv(\"./dataset.csv\", header=0)\n",
    "data.loc[data[\"Sexo\"] == \"F\", \"Sexo\"] = 1\n",
    "data.loc[data[\"Sexo\"] == \"M\", \"Sexo\"] = -1\n",
    "estimated_data = estimate_missing_values(data, k=5)\n",
    "\n",
    "calories_classification = estimated_data.copy()\n",
    "\n",
    "CALORIES_CATEGORY = [{\n",
    "    \"floor\": 0,\n",
    "    \"ceiling\": 1100,\n",
    "},\n",
    "    {\n",
    "    \"floor\": 1100,\n",
    "    \"ceiling\": 1700,\n",
    "},\n",
    "    {\n",
    "    \"floor\": 1700,\n",
    "    \"ceiling\": -1,\n",
    "}]\n",
    "\n",
    "# Pisamos los datos de calorías con las cotas inferiores de las categorías\n",
    "# Esto se realiza para aplicar ténicas de agrupación por categoría\n",
    "for index, calories_category in enumerate(CALORIES_CATEGORY[:-1]):\n",
    "    calories_classification.loc[(calories_classification[\"Calorías\"] >= calories_category[\"floor\"]) & (\n",
    "        calories_classification[\"Calorías\"] < calories_category[\"ceiling\"]), 'Categoria de calorías'] = \"CATE\" + str(index) + \": \" + str(calories_category[\"floor\"]) + \" - \" + str(calories_category[\"ceiling\"])\n",
    "\n",
    "calories_classification.loc[calories_classification[\"Calorías\"] >=\n",
    "                           CALORIES_CATEGORY[-1][\"floor\"], 'Categoria de calorías'] = \"CATE\" + str(len(CALORIES_CATEGORY)) + \": > \" + str(CALORIES_CATEGORY[-1][\"floor\"])\n",
    "\n",
    "\n",
    "# Nos quedamos solo con las columnas de interés\n",
    "df_alcohol = calories_classification.loc[:, [\"Categoria de calorías\", \"Alcohol\"]]\n",
    "# Agrupamos por categoría de calorías\n",
    "df_calories_groupby = df_alcohol.groupby(\"Categoria de calorías\", axis=0)\n",
    "\n",
    "# Armamos clasificación de alcohol por cada categoría\n",
    "alcohol_classification = []\n",
    "labels = []\n",
    "for calories_group in df_calories_groupby.groups.keys():\n",
    "    alcohol_classification.append(df_calories_groupby.get_group(\n",
    "        calories_group)['Alcohol'].values)\n",
    "    labels.append(calories_group)\n",
    "\n",
    "fig, axes = plt.subplots(figsize=(10, 5))\n",
    "axes.boxplot(alcohol_classification)\n",
    "axes.set_xticks(range(1, len(labels) + 1), labels)\n",
    "axes.set_title(\"Boxplots Alcohol por categoría de Calorías\")\n",
    "\n"
   ]
  },
  {
   "cell_type": "code",
   "execution_count": null,
   "metadata": {},
   "outputs": [],
   "source": [
    "# *********************************************************************************************\n",
    "# Grafico de dispersión\n",
    "fig, axes = plt.subplots(figsize=(10, 5))\n",
    "axes.set_title(\"Grafico de dispersión de las categorías de Calorías\")\n",
    "sns.scatterplot(x=\"Calorías\", y=\"Alcohol\", data=calories_classification, ax=axes, hue=\"Categoria de calorías\", palette=\"Set1\")"
   ]
  }
 ],
 "metadata": {
  "kernelspec": {
   "display_name": "Python 3.10.4 64-bit",
   "language": "python",
   "name": "python3"
  },
  "language_info": {
   "codemirror_mode": {
    "name": "ipython",
    "version": 3
   },
   "file_extension": ".py",
   "mimetype": "text/x-python",
   "name": "python",
   "nbconvert_exporter": "python",
   "pygments_lexer": "ipython3",
   "version": "3.10.4"
  },
  "orig_nbformat": 4,
  "vscode": {
   "interpreter": {
    "hash": "916dbcbb3f70747c44a77c7bcd40155683ae19c65e1c03b4aa3499c5328201f1"
   }
  }
 },
 "nbformat": 4,
 "nbformat_minor": 2
}
