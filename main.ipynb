{
 "cells": [
  {
   "cell_type": "code",
   "execution_count": null,
   "metadata": {},
   "outputs": [],
   "source": [
    "from sklearn.linear_model import LogisticRegression\n",
    "from sklearn import model_selection, utils\n",
    "from sklearn.metrics import accuracy_score, confusion_matrix, classification_report\n",
    "import pandas as pd\n",
    "import seaborn as sns\n",
    "import matplotlib.pyplot as plt"
   ]
  },
  {
   "cell_type": "markdown",
   "metadata": {},
   "source": [
    "# Clasificador de regresión logística"
   ]
  },
  {
   "cell_type": "markdown",
   "metadata": {},
   "source": [
    "## Predicción de *creditability*"
   ]
  },
  {
   "cell_type": "markdown",
   "metadata": {},
   "source": [
    "### Análisis de dataset"
   ]
  },
  {
   "cell_type": "code",
   "execution_count": null,
   "metadata": {},
   "outputs": [],
   "source": [
    "data_df = pd.read_csv(\n",
    "        \"./german_credit.csv\", header=0, sep=',')\n",
    "\n",
    "# change 0 to \"No\" and 1 to \"Yes\"\n",
    "display_data = data_df[[\"Creditability\"]].replace(\n",
    "    {0: \"No\", 1: \"Yes\"})\n",
    "\n",
    "# plot histogram\n",
    "display_data.apply(pd.value_counts).T.plot(kind='bar', rot=0)\n"
   ]
  },
  {
   "cell_type": "markdown",
   "metadata": {},
   "source": [
    "### Resultados del clasificador"
   ]
  },
  {
   "cell_type": "code",
   "execution_count": null,
   "metadata": {},
   "outputs": [],
   "source": [
    "\n",
    "X = data_df.drop('Creditability', axis=1)\n",
    "y = data_df['Creditability']\n",
    "X_train, X_test, y_train, y_test = model_selection.train_test_split(X, y, test_size=0.2, random_state=1)\n",
    "\n",
    "classifier = LogisticRegression(random_state = 0, max_iter = 1000)\n",
    "classifier.fit(X_train, y_train)\n",
    "\n",
    "y_pred = classifier.predict(X_test)\n",
    "coefs_by_col = pd.DataFrame({'Coef': classifier.coef_[0], 'Attribute': X.columns})\n",
    "coefs_by_col.plot.barh(x='Attribute', y='Coef', figsize=(20, 8))\n",
    "plt.show()\n",
    "\n",
    "matrix = confusion_matrix(y_test, y_pred)\n",
    "sns.heatmap(matrix, annot=True, fmt='d', cmap='Blues')"
   ]
  },
  {
   "cell_type": "markdown",
   "metadata": {},
   "source": [
    "## Predicción de género (mujer: 0, hombre: 1)"
   ]
  },
  {
   "cell_type": "markdown",
   "metadata": {},
   "source": [
    "### Análisis de dataset"
   ]
  },
  {
   "cell_type": "code",
   "execution_count": null,
   "metadata": {},
   "outputs": [],
   "source": [
    "data_df = pd.read_csv(\n",
    "        \"./german_credit.csv\", header=0, sep=',')\n",
    "\n",
    "# MUJER: 0, HOMBRE: 1\n",
    "data_df.loc[data_df[\"Sex & Marital Status\"] == 2, \"Sex & Marital Status\"] = 1\n",
    "data_df.loc[data_df[\"Sex & Marital Status\"] == 3, \"Sex & Marital Status\"] = 1\n",
    "data_df.loc[data_df[\"Sex & Marital Status\"] == 4, \"Sex & Marital Status\"] = 0\n",
    "\n",
    "display_data = data_df[[\"Sex & Marital Status\"]].replace(\n",
    "    {0: \"Mujer\", 1: \"Hombre\"})\n",
    "\n",
    "# plot histogram\n",
    "display_data.apply(pd.value_counts).T.plot(kind='bar', rot=0)"
   ]
  },
  {
   "cell_type": "markdown",
   "metadata": {},
   "source": [
    "### Resultados del clasificador"
   ]
  },
  {
   "cell_type": "code",
   "execution_count": null,
   "metadata": {},
   "outputs": [],
   "source": [
    "X = data_df.drop('Sex & Marital Status', axis=1)\n",
    "y = data_df['Sex & Marital Status']\n",
    "X_train, X_test, y_train, y_test = model_selection.train_test_split(X, y, test_size=0.4, random_state=1)\n",
    "\n",
    "classifier = LogisticRegression(random_state = 0, max_iter = 1000)\n",
    "classifier.fit(X_train, y_train)\n",
    "\n",
    "y_pred = classifier.predict(X_test)\n",
    "coefs_by_col = pd.DataFrame({'Coef': classifier.coef_[0], 'Attribute': X.columns})\n",
    "coefs_by_col.plot.barh(x='Attribute', y='Coef', figsize=(20, 8))\n",
    "plt.show()\n",
    "\n",
    "matrix = confusion_matrix(y_test, y_pred)\n",
    "sns.heatmap(matrix, annot=True, fmt='d', cmap='Blues')"
   ]
  },
  {
   "cell_type": "markdown",
   "metadata": {},
   "source": [
    "## *Creditability* solo teniendo en cuenta la columna *Sex & Marital Status*"
   ]
  },
  {
   "cell_type": "code",
   "execution_count": null,
   "metadata": {},
   "outputs": [],
   "source": [
    "data_df = pd.read_csv(\n",
    "        \"./german_credit.csv\", header=0, sep=',')\n",
    "\n",
    "# drop columns different than sex and creditability\n",
    "data_df = data_df.drop(data_df.columns.difference(['Creditability','Sex & Marital Status']), 1)\n",
    "\n",
    "X = data_df.drop('Creditability', axis=1)\n",
    "y = data_df['Creditability']\n",
    "X_train, X_test, y_train, y_test = model_selection.train_test_split(X, y, test_size=0.4, random_state=1)\n",
    "\n",
    "classifier = LogisticRegression(random_state = 0, max_iter = 1000)\n",
    "classifier.fit(X_train, y_train)\n",
    "\n",
    "y_pred = classifier.predict(X_test)\n",
    "coefs_by_col = pd.DataFrame({'Coef': classifier.coef_[0], 'Attribute': X.columns})\n",
    "coefs_by_col.plot.barh(x='Attribute', y='Coef', figsize=(20, 8))\n",
    "plt.show()\n",
    "\n",
    "matrix = confusion_matrix(y_test, y_pred)\n",
    "sns.heatmap(matrix, annot=True, fmt='d', cmap='Blues')"
   ]
  }
 ],
 "metadata": {
  "kernelspec": {
   "display_name": "Python 3.10.6 64-bit",
   "language": "python",
   "name": "python3"
  },
  "language_info": {
   "codemirror_mode": {
    "name": "ipython",
    "version": 3
   },
   "file_extension": ".py",
   "mimetype": "text/x-python",
   "name": "python",
   "nbconvert_exporter": "python",
   "pygments_lexer": "ipython3",
   "version": "3.10.6"
  },
  "orig_nbformat": 4,
  "vscode": {
   "interpreter": {
    "hash": "916dbcbb3f70747c44a77c7bcd40155683ae19c65e1c03b4aa3499c5328201f1"
   }
  }
 },
 "nbformat": 4,
 "nbformat_minor": 2
}
