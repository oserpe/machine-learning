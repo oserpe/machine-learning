{
 "cells": [
  {
   "cell_type": "code",
   "execution_count": 2,
   "metadata": {},
   "outputs": [],
   "source": [
    "import pandas as pd\n",
    "from IPython.display import display\n",
    "import matplotlib.pyplot as plt\n",
    "from sklearn.preprocessing import StandardScaler\n",
    "import numpy as np"
   ]
  },
  {
   "cell_type": "code",
   "execution_count": 17,
   "metadata": {},
   "outputs": [
    {
     "name": "stdout",
     "output_type": "stream",
     "text": [
      "dict_items([(0, 3), (1, 3)])\n",
      "dict_items([(1, 7)])\n",
      "{'scones': {0: 0.5, 1: 0.5}, 'cerveza': {0: 0.5, 1: 0.5}, 'wiskey': {1: 0.375, 0: 0.625}, 'avena': {1: 0.5, 0: 0.5}, 'futbol': {1: 0.5, 0: 0.5}}\n",
      "{'scones': {1: 0.8888888888888888}, 'cerveza': {0: 0.4444444444444444, 1: 0.5555555555555556}, 'wiskey': {0: 0.5555555555555556, 1: 0.4444444444444444}, 'avena': {1: 0.6666666666666666, 0: 0.3333333333333333}, 'futbol': {1: 0.4444444444444444, 0: 0.5555555555555556}}\n",
      "{'I': 0.46153846153846156, 'E': 0.5384615384615384}\n",
      "1.0\n",
      "0.9401709401709402\n"
     ]
    }
   ],
   "source": [
    "data_df = pd.read_csv(\"./PreferenciasBritanicos.csv\", header=0)\n",
    "\n",
    "class NaiveBayesClassifier:\n",
    "\n",
    "    def __init__(self):\n",
    "        self.relative_frequencies = {} #by_class_by_value\n",
    "        self.classes_probabilities = {}\n",
    "\n",
    "    def train(self, data_df, classes, classes_column_name):\n",
    "        for c in classes:\n",
    "            class_df = data_df[data_df[classes_column_name] == c].drop(classes_column_name, axis=1)\n",
    "            self.classes_probabilities[c] = len(class_df) / len(data_df)\n",
    "\n",
    "            values_appearances = {column_name: {} for column_name in class_df.columns}\n",
    "            # iterate over rows within class\n",
    "            for i in range(len(class_df)):\n",
    "                row = class_df.iloc[[i]]\n",
    "\n",
    "                # iterate over values within row\n",
    "                for column_name in row.columns:\n",
    "                    # initialize possible value if not present in map, otherwise increment appereances\n",
    "                    column_value = row[column_name].values[0]\n",
    "\n",
    "                    if column_value not in values_appearances[column_name]:\n",
    "                        values_appearances[column_name][column_value] = 1\n",
    "                    else:\n",
    "                        values_appearances[column_name][column_value] += 1\n",
    "\n",
    "            # calculate relative frequencies\n",
    "            self.relative_frequencies[c] = { column_name: {\n",
    "                key: (value + 1) / (len(class_df) + len(classes)) for key, value in values_appearances[column_name].items()\n",
    "            } for column_name in class_df.columns}\n",
    "\n",
    "\n",
    "    def classify(self, sample):\n",
    "        maximizing_class = None\n",
    "        maximizing_prod = -1\n",
    "        # for c in classes:\n",
    "        #     prod = self.classes_probabilities[c] * self.relative_frequencies_by_class[c].prod()\n",
    "\n",
    "        #     if(prod > maximizing_prod):\n",
    "        #         maximizing_prod = prod\n",
    "        #         maximizing_class = c\n",
    "        \n",
    "\n",
    "    \n",
    "\n",
    "NaiveBayesClassifier().train(data_df, [\"I\", \"E\"], \"Nacionalidad\")\n",
    "\n",
    "\n"
   ]
  }
 ],
 "metadata": {
  "kernelspec": {
   "display_name": "Python 3.10.4 64-bit",
   "language": "python",
   "name": "python3"
  },
  "language_info": {
   "codemirror_mode": {
    "name": "ipython",
    "version": 3
   },
   "file_extension": ".py",
   "mimetype": "text/x-python",
   "name": "python",
   "nbconvert_exporter": "python",
   "pygments_lexer": "ipython3",
   "version": "3.10.4"
  },
  "orig_nbformat": 4,
  "vscode": {
   "interpreter": {
    "hash": "916dbcbb3f70747c44a77c7bcd40155683ae19c65e1c03b4aa3499c5328201f1"
   }
  }
 },
 "nbformat": 4,
 "nbformat_minor": 2
}
