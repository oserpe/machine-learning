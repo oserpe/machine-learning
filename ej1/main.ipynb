{
 "cells": [
  {
   "cell_type": "code",
   "execution_count": 2,
   "metadata": {},
   "outputs": [],
   "source": [
    "import pandas as pd\n",
    "from IPython.display import display\n",
    "import matplotlib.pyplot as plt\n",
    "from sklearn.preprocessing import StandardScaler\n",
    "import numpy as np"
   ]
  },
  {
   "cell_type": "code",
   "execution_count": 39,
   "metadata": {},
   "outputs": [
    {
     "name": "stdout",
     "output_type": "stream",
     "text": [
      "0    0\n",
      "Name: scones, dtype: int64\n"
     ]
    },
    {
     "ename": "KeyError",
     "evalue": "'scones'",
     "output_type": "error",
     "traceback": [
      "\u001b[0;31m---------------------------------------------------------------------------\u001b[0m",
      "\u001b[0;31mKeyError\u001b[0m                                  Traceback (most recent call last)",
      "File \u001b[0;32m/usr/local/lib/python3.10/dist-packages/pandas/core/indexes/base.py:3621\u001b[0m, in \u001b[0;36mIndex.get_loc\u001b[0;34m(self, key, method, tolerance)\u001b[0m\n\u001b[1;32m   3620\u001b[0m \u001b[39mtry\u001b[39;00m:\n\u001b[0;32m-> 3621\u001b[0m     \u001b[39mreturn\u001b[39;00m \u001b[39mself\u001b[39;49m\u001b[39m.\u001b[39;49m_engine\u001b[39m.\u001b[39;49mget_loc(casted_key)\n\u001b[1;32m   3622\u001b[0m \u001b[39mexcept\u001b[39;00m \u001b[39mKeyError\u001b[39;00m \u001b[39mas\u001b[39;00m err:\n",
      "File \u001b[0;32m/usr/local/lib/python3.10/dist-packages/pandas/_libs/index.pyx:136\u001b[0m, in \u001b[0;36mpandas._libs.index.IndexEngine.get_loc\u001b[0;34m()\u001b[0m\n",
      "File \u001b[0;32m/usr/local/lib/python3.10/dist-packages/pandas/_libs/index.pyx:144\u001b[0m, in \u001b[0;36mpandas._libs.index.IndexEngine.get_loc\u001b[0;34m()\u001b[0m\n",
      "File \u001b[0;32mpandas/_libs/index_class_helper.pxi:41\u001b[0m, in \u001b[0;36mpandas._libs.index.Int64Engine._check_type\u001b[0;34m()\u001b[0m\n",
      "\u001b[0;31mKeyError\u001b[0m: 'scones'",
      "\nThe above exception was the direct cause of the following exception:\n",
      "\u001b[0;31mKeyError\u001b[0m                                  Traceback (most recent call last)",
      "\u001b[1;32m/home/manurodriguez/Desktop/ITBA/machine_learning/machine-learning/ej1/main.ipynb Cell 2\u001b[0m in \u001b[0;36m<cell line: 53>\u001b[0;34m()\u001b[0m\n\u001b[1;32m     <a href='vscode-notebook-cell:/home/manurodriguez/Desktop/ITBA/machine_learning/machine-learning/ej1/main.ipynb#W2sZmlsZQ%3D%3D?line=41'>42</a>\u001b[0m         maximizing_prod \u001b[39m=\u001b[39m \u001b[39m-\u001b[39m\u001b[39m1\u001b[39m\n\u001b[1;32m     <a href='vscode-notebook-cell:/home/manurodriguez/Desktop/ITBA/machine_learning/machine-learning/ej1/main.ipynb#W2sZmlsZQ%3D%3D?line=42'>43</a>\u001b[0m         \u001b[39m# for c in classes:\u001b[39;00m\n\u001b[1;32m     <a href='vscode-notebook-cell:/home/manurodriguez/Desktop/ITBA/machine_learning/machine-learning/ej1/main.ipynb#W2sZmlsZQ%3D%3D?line=43'>44</a>\u001b[0m         \u001b[39m#     prod = self.classes_probabilities[c] * self.relative_frequencies_by_class[c].prod()\u001b[39;00m\n\u001b[1;32m     <a href='vscode-notebook-cell:/home/manurodriguez/Desktop/ITBA/machine_learning/machine-learning/ej1/main.ipynb#W2sZmlsZQ%3D%3D?line=44'>45</a>\u001b[0m \n\u001b[1;32m     <a href='vscode-notebook-cell:/home/manurodriguez/Desktop/ITBA/machine_learning/machine-learning/ej1/main.ipynb#W2sZmlsZQ%3D%3D?line=45'>46</a>\u001b[0m         \u001b[39m#     if(prod > maximizing_prod):\u001b[39;00m\n\u001b[1;32m     <a href='vscode-notebook-cell:/home/manurodriguez/Desktop/ITBA/machine_learning/machine-learning/ej1/main.ipynb#W2sZmlsZQ%3D%3D?line=46'>47</a>\u001b[0m         \u001b[39m#         maximizing_prod = prod\u001b[39;00m\n\u001b[1;32m     <a href='vscode-notebook-cell:/home/manurodriguez/Desktop/ITBA/machine_learning/machine-learning/ej1/main.ipynb#W2sZmlsZQ%3D%3D?line=47'>48</a>\u001b[0m         \u001b[39m#         maximizing_class = c\u001b[39;00m\n\u001b[0;32m---> <a href='vscode-notebook-cell:/home/manurodriguez/Desktop/ITBA/machine_learning/machine-learning/ej1/main.ipynb#W2sZmlsZQ%3D%3D?line=52'>53</a>\u001b[0m NaiveBayesClassifier()\u001b[39m.\u001b[39;49mtrain(data_df, [\u001b[39m\"\u001b[39;49m\u001b[39mI\u001b[39;49m\u001b[39m\"\u001b[39;49m, \u001b[39m\"\u001b[39;49m\u001b[39mE\u001b[39;49m\u001b[39m\"\u001b[39;49m], \u001b[39m\"\u001b[39;49m\u001b[39mNacionalidad\u001b[39;49m\u001b[39m\"\u001b[39;49m)\n",
      "\u001b[1;32m/home/manurodriguez/Desktop/ITBA/machine_learning/machine-learning/ej1/main.ipynb Cell 2\u001b[0m in \u001b[0;36mNaiveBayesClassifier.train\u001b[0;34m(self, data_df, classes, classes_column_name)\u001b[0m\n\u001b[1;32m     <a href='vscode-notebook-cell:/home/manurodriguez/Desktop/ITBA/machine_learning/machine-learning/ej1/main.ipynb#W2sZmlsZQ%3D%3D?line=21'>22</a>\u001b[0m \u001b[39mprint\u001b[39m(row\u001b[39m.\u001b[39miloc[[\u001b[39m0\u001b[39m]][column_name])\n\u001b[1;32m     <a href='vscode-notebook-cell:/home/manurodriguez/Desktop/ITBA/machine_learning/machine-learning/ej1/main.ipynb#W2sZmlsZQ%3D%3D?line=22'>23</a>\u001b[0m \u001b[39m# initialize possible value if not present in map, otherwise increment appereances\u001b[39;00m\n\u001b[0;32m---> <a href='vscode-notebook-cell:/home/manurodriguez/Desktop/ITBA/machine_learning/machine-learning/ej1/main.ipynb#W2sZmlsZQ%3D%3D?line=23'>24</a>\u001b[0m column_value \u001b[39m=\u001b[39m row\u001b[39m.\u001b[39;49mloc[column_name]\n\u001b[1;32m     <a href='vscode-notebook-cell:/home/manurodriguez/Desktop/ITBA/machine_learning/machine-learning/ej1/main.ipynb#W2sZmlsZQ%3D%3D?line=24'>25</a>\u001b[0m \u001b[39mprint\u001b[39m(values_appearances)\n\u001b[1;32m     <a href='vscode-notebook-cell:/home/manurodriguez/Desktop/ITBA/machine_learning/machine-learning/ej1/main.ipynb#W2sZmlsZQ%3D%3D?line=26'>27</a>\u001b[0m \u001b[39mif\u001b[39;00m column_value \u001b[39mnot\u001b[39;00m \u001b[39min\u001b[39;00m values_appearances[column_name]:\n",
      "File \u001b[0;32m/usr/local/lib/python3.10/dist-packages/pandas/core/indexing.py:967\u001b[0m, in \u001b[0;36m_LocationIndexer.__getitem__\u001b[0;34m(self, key)\u001b[0m\n\u001b[1;32m    964\u001b[0m axis \u001b[39m=\u001b[39m \u001b[39mself\u001b[39m\u001b[39m.\u001b[39maxis \u001b[39mor\u001b[39;00m \u001b[39m0\u001b[39m\n\u001b[1;32m    966\u001b[0m maybe_callable \u001b[39m=\u001b[39m com\u001b[39m.\u001b[39mapply_if_callable(key, \u001b[39mself\u001b[39m\u001b[39m.\u001b[39mobj)\n\u001b[0;32m--> 967\u001b[0m \u001b[39mreturn\u001b[39;00m \u001b[39mself\u001b[39;49m\u001b[39m.\u001b[39;49m_getitem_axis(maybe_callable, axis\u001b[39m=\u001b[39;49maxis)\n",
      "File \u001b[0;32m/usr/local/lib/python3.10/dist-packages/pandas/core/indexing.py:1202\u001b[0m, in \u001b[0;36m_LocIndexer._getitem_axis\u001b[0;34m(self, key, axis)\u001b[0m\n\u001b[1;32m   1200\u001b[0m \u001b[39m# fall thru to straight lookup\u001b[39;00m\n\u001b[1;32m   1201\u001b[0m \u001b[39mself\u001b[39m\u001b[39m.\u001b[39m_validate_key(key, axis)\n\u001b[0;32m-> 1202\u001b[0m \u001b[39mreturn\u001b[39;00m \u001b[39mself\u001b[39;49m\u001b[39m.\u001b[39;49m_get_label(key, axis\u001b[39m=\u001b[39;49maxis)\n",
      "File \u001b[0;32m/usr/local/lib/python3.10/dist-packages/pandas/core/indexing.py:1153\u001b[0m, in \u001b[0;36m_LocIndexer._get_label\u001b[0;34m(self, label, axis)\u001b[0m\n\u001b[1;32m   1151\u001b[0m \u001b[39mdef\u001b[39;00m \u001b[39m_get_label\u001b[39m(\u001b[39mself\u001b[39m, label, axis: \u001b[39mint\u001b[39m):\n\u001b[1;32m   1152\u001b[0m     \u001b[39m# GH#5667 this will fail if the label is not present in the axis.\u001b[39;00m\n\u001b[0;32m-> 1153\u001b[0m     \u001b[39mreturn\u001b[39;00m \u001b[39mself\u001b[39;49m\u001b[39m.\u001b[39;49mobj\u001b[39m.\u001b[39;49mxs(label, axis\u001b[39m=\u001b[39;49maxis)\n",
      "File \u001b[0;32m/usr/local/lib/python3.10/dist-packages/pandas/core/generic.py:3864\u001b[0m, in \u001b[0;36mNDFrame.xs\u001b[0;34m(self, key, axis, level, drop_level)\u001b[0m\n\u001b[1;32m   3862\u001b[0m             new_index \u001b[39m=\u001b[39m index[loc]\n\u001b[1;32m   3863\u001b[0m \u001b[39melse\u001b[39;00m:\n\u001b[0;32m-> 3864\u001b[0m     loc \u001b[39m=\u001b[39m index\u001b[39m.\u001b[39;49mget_loc(key)\n\u001b[1;32m   3866\u001b[0m     \u001b[39mif\u001b[39;00m \u001b[39misinstance\u001b[39m(loc, np\u001b[39m.\u001b[39mndarray):\n\u001b[1;32m   3867\u001b[0m         \u001b[39mif\u001b[39;00m loc\u001b[39m.\u001b[39mdtype \u001b[39m==\u001b[39m np\u001b[39m.\u001b[39mbool_:\n",
      "File \u001b[0;32m/usr/local/lib/python3.10/dist-packages/pandas/core/indexes/base.py:3623\u001b[0m, in \u001b[0;36mIndex.get_loc\u001b[0;34m(self, key, method, tolerance)\u001b[0m\n\u001b[1;32m   3621\u001b[0m     \u001b[39mreturn\u001b[39;00m \u001b[39mself\u001b[39m\u001b[39m.\u001b[39m_engine\u001b[39m.\u001b[39mget_loc(casted_key)\n\u001b[1;32m   3622\u001b[0m \u001b[39mexcept\u001b[39;00m \u001b[39mKeyError\u001b[39;00m \u001b[39mas\u001b[39;00m err:\n\u001b[0;32m-> 3623\u001b[0m     \u001b[39mraise\u001b[39;00m \u001b[39mKeyError\u001b[39;00m(key) \u001b[39mfrom\u001b[39;00m \u001b[39merr\u001b[39;00m\n\u001b[1;32m   3624\u001b[0m \u001b[39mexcept\u001b[39;00m \u001b[39mTypeError\u001b[39;00m:\n\u001b[1;32m   3625\u001b[0m     \u001b[39m# If we have a listlike key, _check_indexing_error will raise\u001b[39;00m\n\u001b[1;32m   3626\u001b[0m     \u001b[39m#  InvalidIndexError. Otherwise we fall through and re-raise\u001b[39;00m\n\u001b[1;32m   3627\u001b[0m     \u001b[39m#  the TypeError.\u001b[39;00m\n\u001b[1;32m   3628\u001b[0m     \u001b[39mself\u001b[39m\u001b[39m.\u001b[39m_check_indexing_error(key)\n",
      "\u001b[0;31mKeyError\u001b[0m: 'scones'"
     ]
    }
   ],
   "source": [
    "data_df = pd.read_csv(\"./PreferenciasBritanicos.csv\", header=0)\n",
    "\n",
    "class NaiveBayesClassifier:\n",
    "\n",
    "    def __init__(self):\n",
    "        self.relative_frequencies = {} #by_class_by_value\n",
    "        self.classes_probabilities = {}\n",
    "\n",
    "    def train(self, data_df, classes, classes_column_name):\n",
    "        for c in classes:\n",
    "            class_df = data_df[data_df[classes_column_name] == c].drop(classes_column_name, axis=1)\n",
    "            self.classes_probabilities[c] = len(class_df) / len(data_df)\n",
    "\n",
    "            values_appearances = {column_name: {} for column_name in class_df.columns}\n",
    "            # iterate over rows within class\n",
    "            for i in range(len(class_df)):\n",
    "                row = class_df.iloc[[i]]\n",
    "\n",
    "                # iterate over values within row\n",
    "                for column_name in row.columns:\n",
    "                    # initialize possible value if not present in map, otherwise increment appereances\n",
    "                    column_value = row[column_name].values[0]\n",
    "\n",
    "                    if column_value not in values_appearances[column_name]:\n",
    "                        values_appearances[column_name][column_value] = 1\n",
    "                    else:\n",
    "                        values_appearances[column_name][column_value] += 1\n",
    "\n",
    "            # calculate relative frequencies\n",
    "            self.relative_frequencies[c] = { column_name: {\n",
    "                value: (value + 1) / (len(class_df) + len(classes)) for value, appearances in values_appearances[column_name].items()\n",
    "            } for column_name in class_df.columns}\n",
    "\n",
    "        print(self.relative_frequencies)\n",
    "\n",
    "\n",
    "    def classify(self, sample):\n",
    "        maximizing_class = None\n",
    "        maximizing_prod = -1\n",
    "        # for c in classes:\n",
    "        #     prod = self.classes_probabilities[c] * self.relative_frequencies_by_class[c].prod()\n",
    "\n",
    "        #     if(prod > maximizing_prod):\n",
    "        #         maximizing_prod = prod\n",
    "        #         maximizing_class = c\n",
    "        \n",
    "\n",
    "    \n",
    "\n",
    "NaiveBayesClassifier().train(data_df, [\"I\", \"E\"], \"Nacionalidad\")\n",
    "\n",
    "\n"
   ]
  }
 ],
 "metadata": {
  "kernelspec": {
   "display_name": "Python 3.10.4 64-bit",
   "language": "python",
   "name": "python3"
  },
  "language_info": {
   "codemirror_mode": {
    "name": "ipython",
    "version": 3
   },
   "file_extension": ".py",
   "mimetype": "text/x-python",
   "name": "python",
   "nbconvert_exporter": "python",
   "pygments_lexer": "ipython3",
   "version": "3.10.4"
  },
  "orig_nbformat": 4,
  "vscode": {
   "interpreter": {
    "hash": "916dbcbb3f70747c44a77c7bcd40155683ae19c65e1c03b4aa3499c5328201f1"
   }
  }
 },
 "nbformat": 4,
 "nbformat_minor": 2
}
