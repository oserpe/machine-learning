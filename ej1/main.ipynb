{
 "cells": [
  {
   "cell_type": "code",
   "execution_count": null,
   "metadata": {},
   "outputs": [],
   "source": [
    "import pandas as pd\n",
    "from IPython.display import display\n",
    "import matplotlib.pyplot as plt\n",
    "from sklearn.preprocessing import StandardScaler\n",
    "import numpy as np"
   ]
  },
  {
   "cell_type": "code",
   "execution_count": null,
   "metadata": {},
   "outputs": [],
   "source": [
    "class NaiveBayesClassifier:\n",
    "\n",
    "    def __init__(self, classes, classes_column_name):\n",
    "        self.relative_frequencies = {} #by_class_by_value\n",
    "        self.classes_probabilities = {}\n",
    "        self.classes = classes\n",
    "        self.classes_column_name = classes_column_name\n",
    "        self.row_count_by_class = {}\n",
    "\n",
    "    def train(self, data_df):\n",
    "        for c in self.classes:\n",
    "            class_df = data_df[data_df[self.classes_column_name] == c].drop(self.classes_column_name, axis=1)\n",
    "            self.row_count_by_class[c] = len(class_df)\n",
    "            self.classes_probabilities[c] = len(class_df) / len(data_df)\n",
    "\n",
    "            values_appearances = {column_name: {} for column_name in class_df.columns}\n",
    "            # iterate over rows within class\n",
    "            for i in range(len(class_df)):\n",
    "                row = class_df.iloc[[i]]\n",
    "\n",
    "                # iterate over values within row\n",
    "                for column_name in row.columns:\n",
    "                    # initialize possible value if not present in map, otherwise increment appereances\n",
    "                    column_value = row[column_name].values[0]\n",
    "\n",
    "                    if column_value not in values_appearances[column_name]:\n",
    "                        values_appearances[column_name][column_value] = 1\n",
    "                    else:\n",
    "                        values_appearances[column_name][column_value] += 1\n",
    "\n",
    "            # calculate relative frequencies\n",
    "            self.relative_frequencies[c] = { column_name: {\n",
    "                key: (value + 1) / (len(class_df) + len(self.classes)) for key, value in values_appearances[column_name].items()\n",
    "            } for column_name in class_df.columns}\n",
    "            print(self.relative_frequencies[c])\n",
    "            print(self.classes_probabilities[c])\n",
    "\n",
    "\n",
    "\n",
    "    def classify(self, sample):\n",
    "        maximizing_class = None\n",
    "        maximizing_prod = -1\n",
    "        for c in self.classes:\n",
    "            prod = self.classes_probabilities[c]\n",
    "            \n",
    "            for column_name in sample.columns:\n",
    "                attr_likelihoods = self.relative_frequencies[c][column_name]\n",
    "                prod *= attr_likelihoods[sample[column_name][0]] if sample[column_name][0] in attr_likelihoods else 1/(self.row_count_by_class[c] + len(self.classes))\n",
    "\n",
    "            if(prod > maximizing_prod):\n",
    "                maximizing_prod = prod\n",
    "                maximizing_class = c\n",
    "\n",
    "        return maximizing_class\n",
    "        \n",
    "    def create_sample_df(self, columns, sample):\n",
    "        return pd.DataFrame([sample], columns=columns)"
   ]
  },
  {
   "cell_type": "code",
   "execution_count": null,
   "metadata": {},
   "outputs": [],
   "source": [
    "data_df = pd.read_csv(\"./PreferenciasBritanicos.csv\", header=0)\n",
    "\n",
    "nbclassifier = NaiveBayesClassifier([\"I\", \"E\"], \"Nacionalidad\")\n",
    "nbclassifier.train(data_df)\n",
    "columns = data_df.columns.drop(\"Nacionalidad\")\n",
    "\n",
    "sample_df = nbclassifier.create_sample_df(columns, [1, 0, 1, 1, 0])\n",
    "print(nbclassifier.classify(sample_df))\n",
    "sample_df = nbclassifier.create_sample_df(columns, [0, 1, 1, 0, 1])\n",
    "print(nbclassifier.classify(sample_df))\n"
   ]
  }
 ],
 "metadata": {
  "kernelspec": {
   "display_name": "Python 3.10.6 64-bit",
   "language": "python",
   "name": "python3"
  },
  "language_info": {
   "codemirror_mode": {
    "name": "ipython",
    "version": 3
   },
   "file_extension": ".py",
   "mimetype": "text/x-python",
   "name": "python",
   "nbconvert_exporter": "python",
   "pygments_lexer": "ipython3",
   "version": "3.10.6"
  },
  "orig_nbformat": 4,
  "vscode": {
   "interpreter": {
    "hash": "964b1fa5364468aa142ca826e1bab4686480a96d9d38c308c84d42c2ef7b8b78"
   }
  }
 },
 "nbformat": 4,
 "nbformat_minor": 2
}
